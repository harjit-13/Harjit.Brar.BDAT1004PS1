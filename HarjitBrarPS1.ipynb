{
 "cells": [
  {
   "cell_type": "markdown",
   "id": "a3cb7ea4-a72b-45f2-a692-6efaaf889be3",
   "metadata": {},
   "source": [
    "# Q 1. What  type of data each one following?\n",
    "5   integer(int)\n",
    "5.0  Float\n",
    "5.1  Boolean True\n",
    "'5'  string  str\n",
    "5*2  10 int\n",
    "'5' * 2  '55' string\n",
    "'5' +'2'  '52' str\n",
    "5/2  = 2.5  (decimal) Float\n",
    "5%2   int\n",
    "5==3 (false)  Bool\n",
    "Pi float\n"
   ]
  },
  {
   "cell_type": "markdown",
   "id": "d0f06052-b59f-4bc4-8120-618bcda06a0e",
   "metadata": {},
   "source": [
    "# Q 2.Write and evaluate python expressions that answer these questions;\n"
   ]
  },
  {
   "cell_type": "code",
   "execution_count": null,
   "id": "3befc131-428b-420d-9720-84e2f4b19139",
   "metadata": {},
   "outputs": [],
   "source": [
    "#a.How many lettes are there in 'Supercalifragilisticexpialidocious'?"
   ]
  },
  {
   "cell_type": "code",
   "execution_count": 1,
   "id": "394434c3-3113-44da-8f41-8a06c87679c8",
   "metadata": {},
   "outputs": [
    {
     "data": {
      "text/plain": [
       "34"
      ]
     },
     "execution_count": 1,
     "metadata": {},
     "output_type": "execute_result"
    }
   ],
   "source": [
    "string = 'Supercalifragilisticexpialidocious'\n",
    "letter_count = len(string)\n",
    "letter_count"
   ]
  },
  {
   "cell_type": "code",
   "execution_count": null,
   "id": "8835b2ae-621c-4a6c-8bd3-d024d6930225",
   "metadata": {},
   "outputs": [],
   "source": [
    "b. Does 'Supercalifragilisticexpialidocious' contain 'ice'as a substring?"
   ]
  },
  {
   "cell_type": "code",
   "execution_count": 6,
   "id": "abd426ef-4aa7-436d-8858-8bfd71ce0cd1",
   "metadata": {},
   "outputs": [
    {
     "data": {
      "text/plain": [
       "True"
      ]
     },
     "execution_count": 6,
     "metadata": {},
     "output_type": "execute_result"
    }
   ],
   "source": [
    "string ='Supercalifragilisticexpialidocious'\n",
    "contains_ice = 'ice' in string\n",
    "contains_ice"
   ]
  },
  {
   "cell_type": "code",
   "execution_count": null,
   "id": "60a380f1-e3fe-4ead-b4c9-03ad26b8d516",
   "metadata": {},
   "outputs": [],
   "source": [
    "c. Which of the following words is longest: Supercalifragilisticexpialidocious, Honorificabilitudinitatibus, or Bababadalgharaghtakamminarronnkonn?"
   ]
  },
  {
   "cell_type": "code",
   "execution_count": null,
   "id": "57330520-88d0-484b-9e9f-41d2f996aefc",
   "metadata": {},
   "outputs": [],
   "source": [
    " Supercalifragilisticexpialidocious"
   ]
  },
  {
   "cell_type": "code",
   "execution_count": null,
   "id": "8bef0baa-f884-4b7d-abc4-765a4c4e9403",
   "metadata": {},
   "outputs": [],
   "source": [
    "d. Which composer comes first and last in Dictionary?"
   ]
  },
  {
   "cell_type": "code",
   "execution_count": 7,
   "id": "b43742ce-6e89-4e12-b923-2beb9375a919",
   "metadata": {},
   "outputs": [
    {
     "data": {
      "text/plain": [
       "('Bartok', 'Buxtehude')"
      ]
     },
     "execution_count": 7,
     "metadata": {},
     "output_type": "execute_result"
    }
   ],
   "source": [
    "composers = [ 'Berlioz', 'Borodin', 'Brian', 'Bartok', 'Bellini', 'Buxtehude', 'Bernstein']\n",
    "sorted_composers = sorted(composers)\n",
    "first_composer = sorted_composers[0]\n",
    "last_composer = sorted_composers[-1]\n",
    "first_composer, last_composer"
   ]
  },
  {
   "cell_type": "markdown",
   "id": "4599babf-8954-42fc-80f1-63f614cce391",
   "metadata": {},
   "source": [
    "# Q 3. implement function triangleArea(a,b,c) ?"
   ]
  },
  {
   "cell_type": "markdown",
   "id": "5dd1d795-dd40-4a2a-b30f-fb31b7316f06",
   "metadata": {},
   "source": [
    "def triangleArea(a,b,c):\n",
    "   s = (a + b + c)/2\n",
    "   area = (s*(s-a)*(s-b)*(s-c))**0.5\n",
    "   return area\n",
    "print(triangleArea(2, 2, 2))"
   ]
  },
  {
   "cell_type": "markdown",
   "id": "bd82e13f-faa7-4b06-9e85-45b7a0a700d8",
   "metadata": {},
   "source": [
    "# Q 5.Write a functon inside(x,y,x1,y1,x2,y2) that returns True or False?"
   ]
  },
  {
   "cell_type": "code",
   "execution_count": 13,
   "id": "4d0d7455-e8bf-474c-ab78-59682d6e9afc",
   "metadata": {},
   "outputs": [
    {
     "name": "stdout",
     "output_type": "stream",
     "text": [
      "True\n",
      "False\n"
     ]
    }
   ],
   "source": [
    "def inside(x, y, x1, y1, x2, y2):\n",
    "    return x1 <= x <= x2 and y1 <= y <= y2\n",
    "print(inside(1, 1, 0, 0, 2, 3)) \n",
    "print(inside(-1, -1, 0, 0, 2, 3))"
   ]
  },
  {
   "cell_type": "markdown",
   "id": "541f97a1-03b2-4211-aba7-704c1f6e57aa",
   "metadata": {},
   "source": [
    "# Q 6."
   ]
  },
  {
   "cell_type": "code",
   "execution_count": 25,
   "id": "c3c20bdb-d9b2-498a-8703-4249de9d4234",
   "metadata": {},
   "outputs": [
    {
     "name": "stdout",
     "output_type": "stream",
     "text": [
      "appyhay\n",
      "enterway\n"
     ]
    }
   ],
   "source": [
    "def pig(word):\n",
    "    word = word.lower()\n",
    "    \n",
    "    if word[0] in'aeiou':\n",
    "       return word +'way'\n",
    "    else:\n",
    "        return word[1:] +word[0] +'ay'\n",
    "print(pig('happy'))\n",
    "print(pig('enter'))"
   ]
  },
  {
   "cell_type": "markdown",
   "id": "441b6eeb-f217-4603-9521-80dfa876557d",
   "metadata": {},
   "source": [
    "# Q 9."
   ]
  },
  {
   "cell_type": "code",
   "execution_count": null,
   "id": "50eabc73-952e-4235-9473-55d4d95d6c08",
   "metadata": {},
   "outputs": [],
   "source": [
    "  1.   Trying to add incampatible variables      adding 6 + 'a'\n",
    "    Ans. Type Error\n"
   ]
  },
  {
   "cell_type": "code",
   "execution_count": null,
   "id": "a2779441-525c-4936-b0d2-39e1938ad930",
   "metadata": {},
   "outputs": [],
   "source": [
    "2. Referring to the 12th item of a list of 10 items\n",
    "Ans.  Index Error"
   ]
  },
  {
   "cell_type": "code",
   "execution_count": null,
   "id": "22608cc5-bb4e-4ee5-b2ad-9695daa4a0dc",
   "metadata": {},
   "outputs": [],
   "source": [
    "3. Usng a value out of range for function's input....\n",
    "Ans.    Value Error"
   ]
  },
  {
   "cell_type": "code",
   "execution_count": null,
   "id": "bfd25b13-8fda-43dc-a66e-e82429d39283",
   "metadata": {},
   "outputs": [],
   "source": [
    "4. Using an undeclared variable\n",
    "Ans.    NameError"
   ]
  },
  {
   "cell_type": "code",
   "execution_count": null,
   "id": "b9e3584f-5db8-48bc-a28c-b40031e41347",
   "metadata": {},
   "outputs": [],
   "source": [
    "5. Trying to open a file that does not exist:\n",
    "Ans.    FileNotFoundError"
   ]
  },
  {
   "cell_type": "markdown",
   "id": "b3654ab0-99c5-44c3-937a-4a20e32e26c6",
   "metadata": {},
   "source": [
    "# Q 10"
   ]
  },
  {
   "cell_type": "code",
   "execution_count": null,
   "id": "03332690-cf37-43fd-8dc0-02884f334b96",
   "metadata": {},
   "outputs": [],
   "source": [
    "def frequencies(text):\n",
    "    letters = 'abcdefghijklmnopqrstuvwxyz'"
   ]
  }
 ],
 "metadata": {
  "kernelspec": {
   "display_name": "Python 3 (ipykernel)",
   "language": "python",
   "name": "python3"
  },
  "language_info": {
   "codemirror_mode": {
    "name": "ipython",
    "version": 3
   },
   "file_extension": ".py",
   "mimetype": "text/x-python",
   "name": "python",
   "nbconvert_exporter": "python",
   "pygments_lexer": "ipython3",
   "version": "3.12.4"
  }
 },
 "nbformat": 4,
 "nbformat_minor": 5
}
